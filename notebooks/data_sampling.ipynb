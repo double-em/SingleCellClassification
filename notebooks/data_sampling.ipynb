{
 "cells": [
  {
   "cell_type": "code",
   "execution_count": 1,
   "metadata": {
    "collapsed": true
   },
   "outputs": [],
   "source": [
    "import pandas as pd\n",
    "import numpy as np\n",
    "\n",
    "import os\n",
    "import io\n",
    "import base64\n",
    "from tqdm import tqdm\n",
    "from PIL import Image\n",
    "import matplotlib.pyplot as plt\n",
    "import seaborn as sns\n",
    "%matplotlib inline\n",
    "\n",
    "from fastai.vision.all import *\n",
    "import torch.nn.functional as nnf"
   ]
  },
  {
   "cell_type": "code",
   "execution_count": 2,
   "outputs": [],
   "source": [
    "from scclib.util.image import create_samples"
   ],
   "metadata": {
    "collapsed": false,
    "pycharm": {
     "name": "#%%\n"
    }
   }
  },
  {
   "cell_type": "code",
   "execution_count": 3,
   "outputs": [],
   "source": [
    "cuda0 = torch.device('cuda:0')"
   ],
   "metadata": {
    "collapsed": false,
    "pycharm": {
     "name": "#%%\n"
    }
   }
  },
  {
   "cell_type": "code",
   "execution_count": 4,
   "outputs": [],
   "source": [
    "data_path = Path('Z:\\cloud\\data\\hpa-single-cell-image-classification')\n",
    "path = Path('../data')"
   ],
   "metadata": {
    "collapsed": false,
    "pycharm": {
     "name": "#%%\n"
    }
   }
  },
  {
   "cell_type": "code",
   "execution_count": 5,
   "outputs": [],
   "source": [
    "df = pd.read_csv(data_path/'train.csv')"
   ],
   "metadata": {
    "collapsed": false,
    "pycharm": {
     "name": "#%%\n"
    }
   }
  },
  {
   "cell_type": "code",
   "execution_count": 6,
   "outputs": [
    {
     "data": {
      "text/plain": "                                     ID  Label\n0  5c27f04c-bb99-11e8-b2b9-ac1f6b6435d0  8|5|0\n1  5fb643ee-bb99-11e8-b2b9-ac1f6b6435d0   14|0\n2  60b57878-bb99-11e8-b2b9-ac1f6b6435d0    6|1\n3  5c1a898e-bb99-11e8-b2b9-ac1f6b6435d0  16|10\n4  5b931256-bb99-11e8-b2b9-ac1f6b6435d0   14|0",
      "text/html": "<div>\n<style scoped>\n    .dataframe tbody tr th:only-of-type {\n        vertical-align: middle;\n    }\n\n    .dataframe tbody tr th {\n        vertical-align: top;\n    }\n\n    .dataframe thead th {\n        text-align: right;\n    }\n</style>\n<table border=\"1\" class=\"dataframe\">\n  <thead>\n    <tr style=\"text-align: right;\">\n      <th></th>\n      <th>ID</th>\n      <th>Label</th>\n    </tr>\n  </thead>\n  <tbody>\n    <tr>\n      <th>0</th>\n      <td>5c27f04c-bb99-11e8-b2b9-ac1f6b6435d0</td>\n      <td>8|5|0</td>\n    </tr>\n    <tr>\n      <th>1</th>\n      <td>5fb643ee-bb99-11e8-b2b9-ac1f6b6435d0</td>\n      <td>14|0</td>\n    </tr>\n    <tr>\n      <th>2</th>\n      <td>60b57878-bb99-11e8-b2b9-ac1f6b6435d0</td>\n      <td>6|1</td>\n    </tr>\n    <tr>\n      <th>3</th>\n      <td>5c1a898e-bb99-11e8-b2b9-ac1f6b6435d0</td>\n      <td>16|10</td>\n    </tr>\n    <tr>\n      <th>4</th>\n      <td>5b931256-bb99-11e8-b2b9-ac1f6b6435d0</td>\n      <td>14|0</td>\n    </tr>\n  </tbody>\n</table>\n</div>"
     },
     "execution_count": 6,
     "metadata": {},
     "output_type": "execute_result"
    }
   ],
   "source": [
    "df.head()"
   ],
   "metadata": {
    "collapsed": false,
    "pycharm": {
     "name": "#%%\n"
    }
   }
  },
  {
   "cell_type": "code",
   "execution_count": 7,
   "outputs": [],
   "source": [
    "labels = [str(i) for i in range(19)]\n",
    "for x in labels:\n",
    "    df[x] = df['Label'].apply(lambda r: int(x in r.split('|')))"
   ],
   "metadata": {
    "collapsed": false,
    "pycharm": {
     "name": "#%%\n"
    }
   }
  },
  {
   "cell_type": "code",
   "execution_count": 8,
   "outputs": [],
   "source": [
    "dfs_0 = df[df['Label'] == '0'].sample(n=300, random_state=42).reset_index(drop=True)\n",
    "dfs_1 = df[df['1'] == 1].sample(n=400, random_state=42).reset_index(drop=True)\n",
    "dfs_1u = df[df['Label'] == '1'].sample(n=221, random_state=42).reset_index(drop=True)\n",
    "dfs_2 = df[df['Label'] == '2'].sample(n=500, random_state=42).reset_index(drop=True)\n",
    "dfs_3 = df[df['Label'] == '3'].sample(n=500, random_state=42).reset_index(drop=True)\n",
    "dfs_4 = df[df['Label'] == '4'].sample(n=500, random_state=42).reset_index(drop=True)\n",
    "dfs_5 = df[df['Label'] == '5'].sample(n=500, random_state=42).reset_index(drop=True)\n",
    "dfs_6 = df[df['6'] == 1].sample(n=500, random_state=42).reset_index(drop=True)\n",
    "dfs_7 = df[df['Label'] == '7'].sample(n=500, random_state=42).reset_index(drop=True)\n",
    "dfs_8 = df[df['Label'] == '8'].sample(n=500, random_state=42).reset_index(drop=True)\n",
    "dfs_9 = df[df['9'] == 1].sample(n=400, random_state=42).reset_index(drop=True)\n",
    "dfs_9u = df[df['Label'] == '9'].sample(n=200, random_state=42).reset_index(drop=True)\n",
    "dfs_10 = df[df['10'] == 1].sample(n=400, random_state=42).reset_index(drop=True)\n",
    "dfs_10u = df[df['Label'] == '10'].sample(n=200, random_state=42).reset_index(drop=True)\n",
    "dfs_11 = df[df['11'] == 1].reset_index(drop=True)\n",
    "dfs_12 = df[df['Label'] == '12'].sample(n=500, random_state=42).reset_index(drop=True)\n",
    "dfs_13 = df[df['Label'] == '13'].sample(n=400, random_state=42).reset_index(drop=True)\n",
    "dfs_14 = df[df['Label'] == '14'].sample(n=500, random_state=42).reset_index(drop=True)\n",
    "dfs_15 = df[df['15'] == 1].reset_index(drop=True)\n",
    "dfs_16 = df[df['Label'] == '16'].sample(n=350, random_state=42).reset_index(drop=True)\n",
    "dfs_17 = df[df['17'] == 1].sample(n=500, random_state=42).reset_index(drop=True)\n",
    "dfs_18 = df[df['18'] == 1].reset_index(drop=True)\n",
    "dfs_ = [dfs_0, dfs_1, dfs_1u, dfs_2, dfs_3, dfs_4, dfs_5, dfs_6, dfs_7, dfs_8, dfs_9, dfs_9u, dfs_10, dfs_10u,\n",
    "        dfs_11, dfs_12, dfs_13, dfs_14, dfs_15, dfs_16, dfs_17, dfs_18]"
   ],
   "metadata": {
    "collapsed": false,
    "pycharm": {
     "name": "#%%\n"
    }
   }
  },
  {
   "cell_type": "code",
   "execution_count": 9,
   "outputs": [],
   "source": [
    "dfs = pd.concat(dfs_, ignore_index=True)\n",
    "dfs.drop_duplicates(inplace=True, ignore_index=True)"
   ],
   "metadata": {
    "collapsed": false,
    "pycharm": {
     "name": "#%%\n"
    }
   }
  },
  {
   "cell_type": "code",
   "execution_count": 10,
   "outputs": [],
   "source": [
    "data_path = Path('../data')\n",
    "\n",
    "image_path = 'Z:\\cloud\\data\\hpa-single-cell-image-classification'\n",
    "image_destination = data_path/'train'\n",
    "\n",
    "if not image_destination.exists():\n",
    "    os.makedirs(image_destination)"
   ],
   "metadata": {
    "collapsed": false,
    "pycharm": {
     "name": "#%%\n"
    }
   }
  },
  {
   "cell_type": "code",
   "execution_count": 11,
   "outputs": [
    {
     "name": "stderr",
     "output_type": "stream",
     "text": [
      "100%|██████████| 7960/7960 [00:02<00:00, 3209.68it/s]\n"
     ]
    }
   ],
   "source": [
    "create_samples(460, dfs, image_path, image_destination, csv_path=data_path/'cells_sample.csv', device=\"cuda:0\")"
   ],
   "metadata": {
    "collapsed": false,
    "pycharm": {
     "name": "#%%\n"
    }
   }
  }
 ],
 "metadata": {
  "kernelspec": {
   "display_name": "Python 3",
   "language": "python",
   "name": "python3"
  },
  "language_info": {
   "codemirror_mode": {
    "name": "ipython",
    "version": 2
   },
   "file_extension": ".py",
   "mimetype": "text/x-python",
   "name": "python",
   "nbconvert_exporter": "python",
   "pygments_lexer": "ipython2",
   "version": "2.7.6"
  }
 },
 "nbformat": 4,
 "nbformat_minor": 0
}