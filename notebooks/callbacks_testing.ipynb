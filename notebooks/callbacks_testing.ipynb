{
 "cells": [
  {
   "cell_type": "code",
   "execution_count": 1,
   "metadata": {
    "collapsed": true
   },
   "outputs": [],
   "source": [
    "import datetime\n",
    "\n",
    "import fastai.callback.progress\n",
    "import pandas as pd\n",
    "import numpy as np\n",
    "\n",
    "import torch\n",
    "torch.cuda.empty_cache()\n",
    "\n",
    "import matplotlib as plt\n",
    "from fastai.vision.all import *\n",
    "\n",
    "from scclib.util.callbacks import LearningRateScheduler, ConsoleBar"
   ]
  },
  {
   "cell_type": "code",
   "execution_count": 2,
   "outputs": [],
   "source": [
    "model_path = Path('../models')\n",
    "path = Path('../data')"
   ],
   "metadata": {
    "collapsed": false,
    "pycharm": {
     "name": "#%%\n"
    }
   }
  },
  {
   "cell_type": "code",
   "execution_count": 3,
   "outputs": [
    {
     "data": {
      "text/plain": "                                image_id image_labels\n0   0e63afe6-bbca-11e8-b2bc-ac1f6b6435d0            0\n1   6166673c-bbad-11e8-b2ba-ac1f6b6435d0            0\n2   2533bcc2-bba5-11e8-b2ba-ac1f6b6435d0            0\n3   280f88c2-bba5-11e8-b2ba-ac1f6b6435d0            0\n4   13669cc6-bbaa-11e8-b2ba-ac1f6b6435d0            0\n..                                   ...          ...\n95  5d9c80f4-bbb8-11e8-b2ba-ac1f6b6435d0            0\n96  91bb7fae-bbbb-11e8-b2ba-ac1f6b6435d0            0\n97  8768a5ec-bba0-11e8-b2b9-ac1f6b6435d0            0\n98  9bf68f5e-bbca-11e8-b2bc-ac1f6b6435d0            0\n99  28593eb8-bbb4-11e8-b2ba-ac1f6b6435d0            0\n\n[100 rows x 2 columns]",
      "text/html": "<div>\n<style scoped>\n    .dataframe tbody tr th:only-of-type {\n        vertical-align: middle;\n    }\n\n    .dataframe tbody tr th {\n        vertical-align: top;\n    }\n\n    .dataframe thead th {\n        text-align: right;\n    }\n</style>\n<table border=\"1\" class=\"dataframe\">\n  <thead>\n    <tr style=\"text-align: right;\">\n      <th></th>\n      <th>image_id</th>\n      <th>image_labels</th>\n    </tr>\n  </thead>\n  <tbody>\n    <tr>\n      <th>0</th>\n      <td>0e63afe6-bbca-11e8-b2bc-ac1f6b6435d0</td>\n      <td>0</td>\n    </tr>\n    <tr>\n      <th>1</th>\n      <td>6166673c-bbad-11e8-b2ba-ac1f6b6435d0</td>\n      <td>0</td>\n    </tr>\n    <tr>\n      <th>2</th>\n      <td>2533bcc2-bba5-11e8-b2ba-ac1f6b6435d0</td>\n      <td>0</td>\n    </tr>\n    <tr>\n      <th>3</th>\n      <td>280f88c2-bba5-11e8-b2ba-ac1f6b6435d0</td>\n      <td>0</td>\n    </tr>\n    <tr>\n      <th>4</th>\n      <td>13669cc6-bbaa-11e8-b2ba-ac1f6b6435d0</td>\n      <td>0</td>\n    </tr>\n    <tr>\n      <th>...</th>\n      <td>...</td>\n      <td>...</td>\n    </tr>\n    <tr>\n      <th>95</th>\n      <td>5d9c80f4-bbb8-11e8-b2ba-ac1f6b6435d0</td>\n      <td>0</td>\n    </tr>\n    <tr>\n      <th>96</th>\n      <td>91bb7fae-bbbb-11e8-b2ba-ac1f6b6435d0</td>\n      <td>0</td>\n    </tr>\n    <tr>\n      <th>97</th>\n      <td>8768a5ec-bba0-11e8-b2b9-ac1f6b6435d0</td>\n      <td>0</td>\n    </tr>\n    <tr>\n      <th>98</th>\n      <td>9bf68f5e-bbca-11e8-b2bc-ac1f6b6435d0</td>\n      <td>0</td>\n    </tr>\n    <tr>\n      <th>99</th>\n      <td>28593eb8-bbb4-11e8-b2ba-ac1f6b6435d0</td>\n      <td>0</td>\n    </tr>\n  </tbody>\n</table>\n<p>100 rows × 2 columns</p>\n</div>"
     },
     "execution_count": 3,
     "metadata": {},
     "output_type": "execute_result"
    }
   ],
   "source": [
    "cell_df = pd.read_csv(path/'cells_sample.csv')\n",
    "cell_df = cell_df.iloc[:100,:]\n",
    "cell_df"
   ],
   "metadata": {
    "collapsed": false,
    "pycharm": {
     "name": "#%%\n"
    }
   }
  },
  {
   "cell_type": "code",
   "execution_count": 4,
   "outputs": [],
   "source": [
    "def get_x(r): return path/'train'/f\"{r['image_id']}.png\"\n",
    "def get_y(r): return r['image_labels'].split('|')"
   ],
   "metadata": {
    "collapsed": false,
    "pycharm": {
     "name": "#%%\n"
    }
   }
  },
  {
   "cell_type": "code",
   "execution_count": 5,
   "outputs": [],
   "source": [
    "def get_dls(bs: int, size: int):\n",
    "    return DataBlock(blocks=(ImageBlock, MultiCategoryBlock),\n",
    "                     splitter=RandomSplitter(seed=42),\n",
    "                     get_x=get_x,\n",
    "                     get_y=get_y,\n",
    "                     batch_tfms=aug_transforms(size=size, min_scale=0.75))\\\n",
    "        .dataloaders(cell_df, bs=bs, num_workers=0)"
   ],
   "metadata": {
    "collapsed": false,
    "pycharm": {
     "name": "#%%\n"
    }
   }
  },
  {
   "cell_type": "code",
   "execution_count": 6,
   "outputs": [],
   "source": [
    "batch_size = 4\n",
    "image_size = 256\n",
    "\n",
    "dls = get_dls(batch_size, image_size)"
   ],
   "metadata": {
    "collapsed": false,
    "pycharm": {
     "name": "#%%\n"
    }
   }
  },
  {
   "cell_type": "code",
   "execution_count": 7,
   "outputs": [],
   "source": [
    "lr_manipulator = lambda lr: lr*2\n",
    "lr_sched = LearningRateScheduler(lr_manipulator)\n",
    "\n",
    "cbs = [lr_sched]\n",
    "\n",
    "learn = cnn_learner(dls,\n",
    "                    resnet18,\n",
    "                    metrics=partial(accuracy_multi, thresh=0.2),\n",
    "                    cbs=cbs).to_fp16()"
   ],
   "metadata": {
    "collapsed": false,
    "pycharm": {
     "name": "#%%\n"
    }
   }
  },
  {
   "cell_type": "code",
   "execution_count": 8,
   "outputs": [],
   "source": [
    "import fastprogress\n",
    "\n",
    "# fastprogress.fastprogress.master_bar, fastprogress.fastprogress.progress_bar = fastprogress.fastprogress.force_console_behavior()\n",
    "fastai.callback.training.master_bar, fastai.callback.training.progress_bar = fastprogress.fastprogress.force_console_behavior()"
   ],
   "metadata": {
    "collapsed": false,
    "pycharm": {
     "name": "#%%\n"
    }
   }
  },
  {
   "cell_type": "code",
   "execution_count": 9,
   "outputs": [
    {
     "data": {
      "text/plain": "<IPython.core.display.HTML object>",
      "text/html": "\n    <div>\n        <style>\n            /* Turns off some styling */\n            progress {\n                /* gets rid of default border in Firefox and Opera. */\n                border: none;\n                /* Needs to be in here for Safari polyfill so background images work as expected. */\n                background-size: auto;\n            }\n            .progress-bar-interrupted, .progress-bar-interrupted::-webkit-progress-bar {\n                background: #F44336;\n            }\n        </style>\n      <progress value='0' class='' max='1' style='width:300px; height:20px; vertical-align: middle;'></progress>\n      \n    </div>\n    \n"
     },
     "metadata": {},
     "output_type": "display_data"
    },
    {
     "data": {
      "text/plain": "<IPython.core.display.HTML object>",
      "text/html": "\n    <div>\n        <style>\n            /* Turns off some styling */\n            progress {\n                /* gets rid of default border in Firefox and Opera. */\n                border: none;\n                /* Needs to be in here for Safari polyfill so background images work as expected. */\n                background-size: auto;\n            }\n            .progress-bar-interrupted, .progress-bar-interrupted::-webkit-progress-bar {\n                background: #F44336;\n            }\n        </style>\n      <progress value='0' class='' max='4' style='width:300px; height:20px; vertical-align: middle;'></progress>\n      \n    </div>\n    \n"
     },
     "metadata": {},
     "output_type": "display_data"
    }
   ],
   "source": [
    "# with learn.no_bar():\n",
    "learn.fine_tune(4, base_lr=0.03)"
   ],
   "metadata": {
    "collapsed": false,
    "pycharm": {
     "name": "#%%\n"
    }
   }
  },
  {
   "cell_type": "code",
   "execution_count": 10,
   "outputs": [
    {
     "data": {
      "text/plain": "[]"
     },
     "execution_count": 10,
     "metadata": {},
     "output_type": "execute_result"
    },
    {
     "data": {
      "text/plain": "<Figure size 432x288 with 1 Axes>",
      "image/png": "[encoded data removed]"
     },
     "metadata": {
      "needs_background": "light"
     },
     "output_type": "display_data"
    }
   ],
   "source": [
    "plt.plot(data=lr_sched.lr_history)"
   ],
   "metadata": {
    "collapsed": false,
    "pycharm": {
     "name": "#%%\n"
    }
   }
  }
 ],
 "metadata": {
  "kernelspec": {
   "display_name": "Python 3",
   "language": "python",
   "name": "python3"
  },
  "language_info": {
   "codemirror_mode": {
    "name": "ipython",
    "version": 2
   },
   "file_extension": ".py",
   "mimetype": "text/x-python",
   "name": "python",
   "nbconvert_exporter": "python",
   "pygments_lexer": "ipython2",
   "version": "2.7.6"
  }
 },
 "nbformat": 4,
 "nbformat_minor": 0
}